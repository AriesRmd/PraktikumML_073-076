{
  "nbformat": 4,
  "nbformat_minor": 0,
  "metadata": {
    "colab": {
      "name": "Kegiatan_2_Kelompok.ipynb",
      "provenance": [],
      "collapsed_sections": [],
      "include_colab_link": true
    },
    "kernelspec": {
      "name": "python3",
      "display_name": "Python 3"
    },
    "language_info": {
      "name": "python"
    }
  },
  "cells": [
    {
      "cell_type": "markdown",
      "metadata": {
        "id": "view-in-github",
        "colab_type": "text"
      },
      "source": [
        "<a href=\"https://colab.research.google.com/github/jodysuseno/PraktikumML_073-076/blob/main/Praktikum_ML_Klasifikasi_Penyakit_Daun_Jagung.ipynb\" target=\"_parent\"><img src=\"https://colab.research.google.com/assets/colab-badge.svg\" alt=\"Open In Colab\"/></a>"
      ]
    },
    {
      "cell_type": "code",
      "metadata": {
        "colab": {
          "base_uri": "https://localhost:8080/"
        },
        "id": "eEgmKyOD642X",
        "outputId": "25303efa-a714-4d14-d43d-541ec98dc587"
      },
      "source": [
        "\n",
        "!wget --no-check-certificate \\\n",
        "    https://raw.githubusercontent.com/jodysuseno/PraktikumML_073-076/teamDetails/PlantZ.zip \\\n",
        "    -O /content/PlantZ.zip"
      ],
      "execution_count": 2,
      "outputs": [
        {
          "output_type": "stream",
          "name": "stdout",
          "text": [
            "--2021-11-08 12:48:52--  https://raw.githubusercontent.com/jodysuseno/PraktikumML_073-076/teamDetails/PlantZ.zip\n",
            "Resolving raw.githubusercontent.com (raw.githubusercontent.com)... 185.199.108.133, 185.199.109.133, 185.199.110.133, ...\n",
            "Connecting to raw.githubusercontent.com (raw.githubusercontent.com)|185.199.108.133|:443... connected.\n",
            "HTTP request sent, awaiting response... 200 OK\n",
            "Length: 52360465 (50M) [application/zip]\n",
            "Saving to: ‘/content/PlantZ.zip’\n",
            "\n",
            "\r/content/PlantZ.zip   0%[                    ]       0  --.-KB/s               \r/content/PlantZ.zip  82%[===============>    ]  41.01M   205MB/s               \r/content/PlantZ.zip 100%[===================>]  49.93M   215MB/s    in 0.2s    \n",
            "\n",
            "2021-11-08 12:48:52 (215 MB/s) - ‘/content/PlantZ.zip’ saved [52360465/52360465]\n",
            "\n"
          ]
        }
      ]
    },
    {
      "cell_type": "code",
      "metadata": {
        "id": "-4SZH5wWQiXQ"
      },
      "source": [
        "import os\n",
        "import zipfile\n",
        "\n",
        "local_zip = '/content/PlantZ.zip'\n",
        "zip_ref = zipfile.ZipFile(local_zip, 'r')\n",
        "zip_ref.extractall('/content')\n",
        "zip_ref.close()"
      ],
      "execution_count": 3,
      "outputs": []
    },
    {
      "cell_type": "code",
      "metadata": {
        "id": "LG_u1RL1nZi_"
      },
      "source": [
        "# os.mkdir(\"/content/dataset\")\n",
        "base_dir=\"/content/Plant\"\n",
        "data_dir=\"/content/dataset\""
      ],
      "execution_count": 12,
      "outputs": []
    },
    {
      "cell_type": "code",
      "metadata": {
        "colab": {
          "base_uri": "https://localhost:8080/"
        },
        "id": "PFcgdFbmnoNO",
        "outputId": "03e0caf1-c722-4cb5-9547-71c562894f2a"
      },
      "source": [
        "!pip install split-folders\n",
        "import splitfolders\n",
        "splitfolders.ratio(data_dir, output=base_dir, seed=1337, ratio=(.8,.19,.01),group_prefix=None)"
      ],
      "execution_count": 13,
      "outputs": [
        {
          "output_type": "stream",
          "name": "stdout",
          "text": [
            "Requirement already satisfied: split-folders in /usr/local/lib/python3.7/dist-packages (0.4.3)\n"
          ]
        },
        {
          "output_type": "stream",
          "name": "stderr",
          "text": [
            "Copying files: 0 files [00:00, ? files/s]\n"
          ]
        }
      ]
    },
    {
      "cell_type": "code",
      "metadata": {
        "id": "lou_m4spQn89"
      },
      "source": [
        "os.mkdir('/content/model_cell_images')\n",
        "os.mkdir('/content/model_cell_images/train')\n",
        "os.mkdir('/content/model_cell_images/train/Corn_Cercospora')\n",
        "os.mkdir('/content/model_cell_images/train/Corn_Common_rust')\n",
        "os.mkdir('/content/model_cell_images/train/Corn_Northern_Leaf_Blight')\n",
        "os.mkdir('/content/model_cell_images/train/Corn_healthy')\n",
        "\n",
        "os.mkdir('/content/model_cell_images/valid')\n",
        "os.mkdir('/content/model_cell_images/valid/Corn_Cercospora')\n",
        "os.mkdir('/content/model_cell_images/valid/Corn_Common_rust')\n",
        "os.mkdir('/content/model_cell_images/valid/Corn_Northern_Leaf_Blight')\n",
        "os.mkdir('/content/model_cell_images/valid/Corn_healthy')\n",
        "\n",
        "os.mkdir('/content/model_cell_images/test')\n",
        "os.mkdir('/content/model_cell_images/test/Corn_Cercospora')\n",
        "os.mkdir('/content/model_cell_images/test/Corn_Common_rust')\n",
        "os.mkdir('/content/model_cell_images/test/Corn_Northern_Leaf_Blight')\n",
        "os.mkdir('/content/model_cell_images/test/Corn_healthy')"
      ],
      "execution_count": 5,
      "outputs": []
    },
    {
      "cell_type": "code",
      "metadata": {
        "id": "8MhDE-gwQzzg"
      },
      "source": [
        "import os\n",
        "import shutil\n",
        "\n",
        "#Splitting Corn Cercospera\n",
        "Cercospora_original = \"/content/Plant/Corn_Cercospora\"\n",
        "Cercospora_train = \"/content/model_cell_images/train/Corn_Cercospora\"\n",
        "Cercospora_validation = \"/content/model_cell_images/valid/Corn_Cercospora\"\n",
        "Cercospora_test = \"/content/model_cell_images/test/Corn_Cercospora\"\n",
        "\n",
        "files = os.listdir(Cercospora_original)\n",
        "# memindahkan 80% file\n",
        "for file in files[0:int(len(files) * .8)]:\n",
        "  new_path = shutil.move(f\"{Cercospora_original}/{file}\", Cercospora_train)\n",
        "\n",
        "#=========================================================\n",
        "\n",
        "files2 = os.listdir(Cercospora_original)\n",
        "# memindahkan 19% file\n",
        "for file in files2[0:int(len(files2) * .19)]:\n",
        "  new_path = shutil.move(f\"{Cercospora_original}/{file}\", Cercospora_validation)\n",
        "\n",
        "#=========================================================\n",
        "files3 = os.listdir(Cercospora_original)\n",
        "\n",
        "# memmindahkan sisa(seluruh file)\n",
        "for file in files3:\n",
        "    new_path = shutil.move(f\"{Cercospora_original}/{file}\", Cercospora_test)"
      ],
      "execution_count": 14,
      "outputs": []
    },
    {
      "cell_type": "code",
      "metadata": {
        "id": "7fBq8hZuRpnG"
      },
      "source": [
        "#Splitting Corn Commont_rust\n",
        "Common_original = \"/content/Plant/Corn_Common_rust\"\n",
        "Common_train = \"/content/model_cell_images/train/Corn_Common_rust\"\n",
        "Common_validation = \"/content/model_cell_images/valid/Corn_Common_rust\"\n",
        "Common_test = \"/content/model_cell_images/test/Corn_Common_rust\"\n",
        "\n",
        "files = os.listdir(Common_original)\n",
        "# memindahkan 80% file\n",
        "for file in files[0:int(len(files) * .8)]:\n",
        "  new_path = shutil.move(f\"{Common_original}/{file}\", Common_train)\n",
        "\n",
        "#=========================================================\n",
        "files2 = os.listdir(Common_original)\n",
        "# memindahkan 19% file\n",
        "for file in files2[0:int(len(files2) * .19)]:\n",
        "  new_path = shutil.move(f\"{Common_original}/{file}\", Common_validation)\n",
        "\n",
        "#=========================================================\n",
        "files3 = os.listdir(Common_original)\n",
        "\n",
        "# memmindahkan sisa(seluruh file)\n",
        "for file in files3:\n",
        "    new_path = shutil.move(f\"{Common_original}/{file}\", Common_test)"
      ],
      "execution_count": 15,
      "outputs": []
    },
    {
      "cell_type": "code",
      "metadata": {
        "id": "EZnv_iNJUqEr"
      },
      "source": [
        "#Splitting Corn Leaf Blight\n",
        "Northern_original = \"/content/Plant/Corn_Northern_Leaf_Blight\"\n",
        "Northern_train = \"/content/model_cell_images/train/Corn_Northern_Leaf_Blight\"\n",
        "Northern_validation = \"/content/model_cell_images/valid/Corn_Northern_Leaf_Blight\"\n",
        "Northern_test = \"/content/model_cell_images/test/Corn_Northern_Leaf_Blight\"\n",
        "\n",
        "files = os.listdir(Northern_original)\n",
        "# memindahkan 80% file\n",
        "for file in files[0:int(len(files) * .8)]:\n",
        "  new_path = shutil.move(f\"{Northern_original}/{file}\", Northern_train)\n",
        "\n",
        "#=========================================================\n",
        "files2 = os.listdir(Northern_original)\n",
        "# memindahkan 19% file\n",
        "for file in files2[0:int(len(files2) * .19)]:\n",
        "  new_path = shutil.move(f\"{Northern_original}/{file}\", Northern_validation)\n",
        "\n",
        "#=========================================================\n",
        "files3 = os.listdir(Northern_original)\n",
        "\n",
        "# memmindahkan sisa(seluruh file)\n",
        "for file in files3:\n",
        "    new_path = shutil.move(f\"{Northern_original}/{file}\", Northern_test)"
      ],
      "execution_count": 16,
      "outputs": []
    },
    {
      "cell_type": "code",
      "metadata": {
        "id": "plCyTvhMWSD3"
      },
      "source": [
        "#Splitting Corn Healthy\n",
        "Healty_original = \"/content/Plant/Corn_healthy\"\n",
        "Healty_train = \"/content/model_cell_images/train/Corn_healthy\"\n",
        "Healty_validation = \"/content/model_cell_images/valid/Corn_healthy\"\n",
        "Healty_test = \"/content/model_cell_images/test/Corn_healthy\"\n",
        "\n",
        "files = os.listdir(Healty_original)\n",
        "# memindahkan 80% file\n",
        "for file in files[0:int(len(files) * .8)]:\n",
        "  new_path = shutil.move(f\"{Healty_original}/{file}\", Healty_train)\n",
        "\n",
        "#=========================================================\n",
        "files2 = os.listdir(Healty_original)\n",
        "# memindahkan 19% file\n",
        "for file in files2[0:int(len(files2) * .19)]:\n",
        "  new_path = shutil.move(f\"{Healty_original}/{file}\", Healty_validation)\n",
        "\n",
        "#=========================================================\n",
        "files3 = os.listdir(Healty_original)\n",
        "\n",
        "# memmindahkan sisa(seluruh file)\n",
        "for file in files3:\n",
        "    new_path = shutil.move(f\"{Healty_original}/{file}\", Healty_test)"
      ],
      "execution_count": 17,
      "outputs": []
    },
    {
      "cell_type": "code",
      "metadata": {
        "id": "HtCZKooPqFja"
      },
      "source": [
        "import os\n",
        "# os.mkdir('/content/model_cell_images')\n",
        "path = '/content/model_cell_images/train/Corn_Cercospora/'\n",
        "files = os.listdir(path)\n",
        "\n",
        "for index, file in enumerate(files):\n",
        "    os.rename(path+file, path +'Corn_Cercospora' + str(index)+ '.jpg')\n",
        "\n",
        "path = '/content/model_cell_images/train/Corn_Common_rust/'\n",
        "files = os.listdir(path)\n",
        "\n",
        "for index, file in enumerate(files):\n",
        "    os.rename(path+file, path +'Corn_Common_rust' + str(index)+ '.jpg')\n",
        "\n",
        "path = '/content/model_cell_images/train/Corn_Northern_Leaf_Blight/'\n",
        "files = os.listdir(path)\n",
        "\n",
        "for index, file in enumerate(files):\n",
        "    os.rename(path+file, path +'Corn_Northern_Leaf_Blight' + str(index)+ '.jpg')\n",
        "\n",
        "path = '/content/model_cell_images/train/Corn_healthy/'\n",
        "files = os.listdir(path)\n",
        "\n",
        "for index, file in enumerate(files):\n",
        "    os.rename(path+file, path +'Corn_healthy' + str(index)+ '.jpg')\n",
        "\n",
        "path = '/content/model_cell_images/valid/Corn_Cercospora/'\n",
        "files = os.listdir(path)\n",
        "\n",
        "for index, file in enumerate(files):\n",
        "    os.rename(path+file, path +'Corn_Cercospora' + str(index)+ '.jpg')\n",
        "\n",
        "path = '/content/model_cell_images/valid/Corn_Common_rust/'\n",
        "files = os.listdir(path)\n",
        "\n",
        "for index, file in enumerate(files):\n",
        "    os.rename(path+file, path +'Corn_Common_rust' + str(index)+ '.jpg')\n",
        "\n",
        "path = '/content/model_cell_images/valid/Corn_Northern_Leaf_Blight/'\n",
        "files = os.listdir(path)\n",
        "\n",
        "for index, file in enumerate(files):\n",
        "    os.rename(path+file, path +'Corn_Northern_Leaf_Blight' + str(index)+ '.jpg')\n",
        "\n",
        "path = '/content/model_cell_images/valid/Corn_healthy/'\n",
        "files = os.listdir(path)\n",
        "\n",
        "for index, file in enumerate(files):\n",
        "    os.rename(path+file, path +'Corn_healthy' + str(index)+ '.jpg')\n",
        "\n",
        "path = '/content/model_cell_images/test/Corn_Cercospora/'\n",
        "files = os.listdir(path)\n",
        "\n",
        "for index, file in enumerate(files):\n",
        "    os.rename(path+file, path +'Corn_Cercospora' + str(index)+ '.jpg')\n",
        "\n",
        "path = '/content/model_cell_images/test/Corn_Common_rust/'\n",
        "files = os.listdir(path)\n",
        "\n",
        "for index, file in enumerate(files):\n",
        "    os.rename(path+file, path +'Corn_Common_rust' + str(index)+ '.jpg')\n",
        "\n",
        "path = '/content/model_cell_images/test/Corn_Northern_Leaf_Blight/'\n",
        "files = os.listdir(path)\n",
        "\n",
        "for index, file in enumerate(files):\n",
        "    os.rename(path+file, path +'Corn_Northern_Leaf_Blight' + str(index)+ '.jpg')\n",
        "\n",
        "path = '/content/model_cell_images/test/Corn_healthy/'\n",
        "files = os.listdir(path)\n",
        "\n",
        "for index, file in enumerate(files):\n",
        "    os.rename(path+file, path +'Corn_healthy' + str(index)+ '.jpg')"
      ],
      "execution_count": 20,
      "outputs": []
    },
    {
      "cell_type": "code",
      "metadata": {
        "colab": {
          "base_uri": "https://localhost:8080/"
        },
        "id": "6U-2KLmsTWiu",
        "outputId": "afa8a4bf-02ce-43f7-f8d1-2e5a7cb28ea8"
      },
      "source": [
        "file_train_cercos = os.listdir(Cercospora_train)\n",
        "file_Val_cercos = os.listdir(Cercospora_validation)\n",
        "file_test_cercos = os.listdir(Cercospora_test)\n",
        "\n",
        "file_train_com = os.listdir(Common_train)\n",
        "file_Val_com = os.listdir(Common_validation)\n",
        "file_test_com = os.listdir(Common_test)\n",
        "\n",
        "file_train_Northern = os.listdir(Northern_train)\n",
        "file_Val_Northern = os.listdir(Northern_validation)\n",
        "file_test_Northern = os.listdir(Northern_test)\n",
        "\n",
        "file_train_Healty = os.listdir(Healty_train)\n",
        "file_Val_Healty = os.listdir(Healty_validation)\n",
        "file_test_Healty = os.listdir(Healty_test)\n",
        "\n",
        "#===========================================================\n",
        "print(\"data Cercos train : \" + str(len(file_train_cercos)))\n",
        "print(\"data Cercos test : \" + str(len(file_Val_cercos)))\n",
        "print(\"data Cercos validation : \" + str(len(file_test_cercos)))\n",
        "print(\"===========================\")\n",
        "\n",
        "print(\"data Rust train : \" + str(len(file_train_com)))\n",
        "print(\"data Rust test : \" + str(len(file_Val_com)))\n",
        "print(\"data Rust validation : \" + str(len(file_test_com)))\n",
        "print(\"===========================\")\n",
        "\n",
        "print(\"data Blight train : \" + str(len(file_train_Northern)))\n",
        "print(\"data Blight test : \" + str(len(file_Val_Northern)))\n",
        "print(\"data Blight validation : \" + str(len(file_test_Northern)))\n",
        "print(\"===========================\")\n",
        "\n",
        "print(\"data Healthy train : \" + str(len(file_train_Healty)))\n",
        "print(\"data Blighthy test : \" + str(len(file_Val_Healty)))\n",
        "print(\"data Blighthy validation : \" + str(len(file_test_Healty)))\n",
        "print(\"===========================\")"
      ],
      "execution_count": 21,
      "outputs": [
        {
          "output_type": "stream",
          "name": "stdout",
          "text": [
            "data Cercos train : 203\n",
            "data Cercos test : 11\n",
            "data Cercos validation : 84\n",
            "===========================\n",
            "data Rust train : 469\n",
            "data Rust test : 25\n",
            "data Rust validation : 194\n",
            "===========================\n",
            "data Blight train : 393\n",
            "data Blight test : 16\n",
            "data Blight validation : 160\n",
            "===========================\n",
            "data Healthy train : 457\n",
            "data Blighthy test : 25\n",
            "data Blighthy validation : 189\n",
            "===========================\n"
          ]
        }
      ]
    },
    {
      "cell_type": "markdown",
      "metadata": {
        "id": "qhnw3bDYXQWz"
      },
      "source": [
        "Preprocessing"
      ]
    },
    {
      "cell_type": "code",
      "metadata": {
        "id": "5vjPE6jNXR50"
      },
      "source": [
        "from keras.preprocessing.image import ImageDataGenerator\n",
        "from tqdm import tqdm\n",
        "from PIL import Image\n",
        "import cv2\n",
        "train_generator = ImageDataGenerator(\n",
        "        zoom_range=2,  # set range for random zoom\n",
        "        rotation_range = 90,\n",
        "        horizontal_flip=True,  # randomly flip images\n",
        "        vertical_flip=True,  # randomly flip images\n",
        ")\n",
        "\n",
        "BATCH_SIZE = 16\n",
        "\n",
        "def Dataset_loader(DIR, RESIZE, sigmaX=10):\n",
        "    IMG = []\n",
        "    read = lambda imname: np.asarray(Image.open(imname).convert(\"RGB\"))\n",
        "    for IMAGE_NAME in tqdm(os.listdir(DIR)):\n",
        "        PATH = os.path.join(DIR,IMAGE_NAME)\n",
        "        _, ftype = os.path.splitext(PATH)\n",
        "        if ftype == \".jpg\":\n",
        "            img = read(PATH)\n",
        "           \n",
        "            img = cv2.resize(img, (RESIZE,RESIZE))\n",
        "           \n",
        "            IMG.append(np.array(img))\n",
        "    return IMG"
      ],
      "execution_count": 28,
      "outputs": []
    },
    {
      "cell_type": "code",
      "metadata": {
        "colab": {
          "base_uri": "https://localhost:8080/"
        },
        "id": "WYddTtfOXW5w",
        "outputId": "45f576cb-738d-4a61-866b-841507d145da"
      },
      "source": [
        "# TULIS KODE ANDA DISINI\n",
        "import numpy as np\n",
        "cercos_train = np.array(Dataset_loader('/content/model_cell_images/train/Corn_Cercospora',250))\n",
        "rust_train = np.array(Dataset_loader('/content/model_cell_images/train/Corn_Common_rust',250))\n",
        "blight_train = np.array(Dataset_loader('/content/model_cell_images/train/Corn_Northern_Leaf_Blight',250))\n",
        "healthy_train = np.array(Dataset_loader('/content/model_cell_images/train/Corn_healthy',250))\n",
        "\n",
        "cercos_v = np.array(Dataset_loader('/content/model_cell_images/test/Corn_Cercospora',250))\n",
        "rust_v = np.array(Dataset_loader('/content/model_cell_images/test/Corn_Common_rust',250))\n",
        "blight_v = np.array(Dataset_loader('/content/model_cell_images/test/Corn_Northern_Leaf_Blight',250))\n",
        "healthy_v = np.array(Dataset_loader('/content/model_cell_images/test/Corn_healthy',250))\n",
        "\n",
        "\n",
        "cercos_t = np.array(Dataset_loader('/content/model_cell_images/valid/Corn_Cercospora',250))\n",
        "rust_t = np.array(Dataset_loader('/content/model_cell_images/valid/Corn_Common_rust',250))\n",
        "blight_t = np.array(Dataset_loader('/content/model_cell_images/valid/Corn_Northern_Leaf_Blight',250))\n",
        "healthy_t = np.array(Dataset_loader('/content/model_cell_images/valid/Corn_healthy',250))\n",
        "\n"
      ],
      "execution_count": 29,
      "outputs": [
        {
          "output_type": "stream",
          "name": "stderr",
          "text": [
            "100%|██████████| 203/203 [00:00<00:00, 443.39it/s]\n",
            "100%|██████████| 469/469 [00:00<00:00, 503.62it/s]\n",
            "100%|██████████| 393/393 [00:00<00:00, 519.83it/s]\n",
            "100%|██████████| 457/457 [00:00<00:00, 537.43it/s]\n",
            "100%|██████████| 84/84 [00:00<00:00, 530.89it/s]\n",
            "100%|██████████| 194/194 [00:00<00:00, 541.43it/s]\n",
            "100%|██████████| 160/160 [00:00<00:00, 505.51it/s]\n",
            "100%|██████████| 189/189 [00:00<00:00, 544.37it/s]\n",
            "100%|██████████| 11/11 [00:00<00:00, 427.72it/s]\n",
            "100%|██████████| 25/25 [00:00<00:00, 532.99it/s]\n",
            "100%|██████████| 16/16 [00:00<00:00, 461.64it/s]\n",
            "100%|██████████| 25/25 [00:00<00:00, 539.70it/s]\n"
          ]
        }
      ]
    },
    {
      "cell_type": "code",
      "metadata": {
        "id": "o3UvYd8mZMsL"
      },
      "source": [
        "# Create labels\n",
        "cercos_train_label = np.full(len(cercos_train),0)\n",
        "rust_train_label = np.full(len(rust_train),1)\n",
        "blight_train_label = np.full(len(blight_train),2)\n",
        "healthy_train_label = np.full(len(healthy_train),3)\n",
        "\n",
        "cercos_v_label = np.full(len(cercos_v),0)\n",
        "rust_v_label = np.full(len(rust_v),1)\n",
        "blight_v_label = np.full(len(blight_v),2)\n",
        "healthy_v_label = np.full(len(healthy_v),3)\n",
        "\n",
        "cercos_t_label = np.full(len(cercos_t),0)\n",
        "rust_t_label = np.full(len(rust_t),1)\n",
        "blight_t_label = np.full(len(blight_t),2)\n",
        "healthy_t_label = np.full(len(healthy_t),3)\n",
        "\n",
        "label =  {0:\"Cercospora\",1:\"Common Rust\",2:\"Northern Leaf Blight\",3:\"Healhty\"}"
      ],
      "execution_count": 30,
      "outputs": []
    },
    {
      "cell_type": "code",
      "metadata": {
        "colab": {
          "base_uri": "https://localhost:8080/"
        },
        "id": "2QTszO8BcfeS",
        "outputId": "51cf5a8a-2c8b-4321-d65c-349eaba98c5e"
      },
      "source": [
        "label"
      ],
      "execution_count": 31,
      "outputs": [
        {
          "output_type": "execute_result",
          "data": {
            "text/plain": [
              "{0: 'Cercospora', 1: 'Common Rust', 2: 'Northern Leaf Blight', 3: 'Healhty'}"
            ]
          },
          "metadata": {},
          "execution_count": 31
        }
      ]
    },
    {
      "cell_type": "code",
      "metadata": {
        "id": "KKLGCgXyaOHi"
      },
      "source": [
        "from sklearn.model_selection import train_test_split\n",
        "from keras.utils.np_utils import to_categorical\n",
        "\n",
        "# Merge data \n",
        "X_train = np.concatenate((cercos_train, rust_train,blight_train, healthy_train), axis = 0)\n",
        "Y_train = np.concatenate((cercos_train_label, rust_train_label, blight_train_label,healthy_train_label), axis = 0)\n",
        "\n",
        "X_valid = np.concatenate((cercos_v, rust_v, blight_v, healthy_v), axis = 0)\n",
        "Y_valid = np.concatenate((cercos_v_label, rust_v_label, blight_v_label, healthy_v_label), axis = 0)\n",
        "\n",
        "\n",
        "\n",
        "\n",
        "# # Normalisasi dataset\n",
        "# print(\"Data sebelum di-normalisasi \", train_data[0][0][0])\n",
        "# x_train = train_data.astype('float32') / 255.0\n",
        "# x_val = val_data.astype('float32') / 255.0\n",
        "# print(\"Data setelah di-normalisasi \", x_train[0][0][0])\n",
        "# X_train = X_train.astype('float32') / 255.0\n",
        "# Y_train = X_train.astype('float32') / 255.0\n",
        "\n",
        "# Shuffle train data\n",
        "s = np.arange(X_train.shape[0])\n",
        "np.random.shuffle(s)\n",
        "X_train = X_train[s]\n",
        "Y_train = Y_train[s]\n",
        "\n",
        "# Shuffle test data\n",
        "s = np.arange(X_valid.shape[0])\n",
        "np.random.shuffle(s)\n",
        "X_valid = X_valid[s]\n",
        "Y_valid = Y_valid[s]\n",
        "\n",
        "# To categorical\n",
        "Y_train = to_categorical(Y_train, num_classes= 4)\n",
        "Y_valid = to_categorical(Y_valid, num_classes= 4)\n",
        "\n",
        "x_train, x_val, y_train, y_val = train_test_split(\n",
        "    X_train, Y_train, \n",
        "    test_size=0.2, \n",
        "    random_state=11\n",
        ")"
      ],
      "execution_count": 32,
      "outputs": []
    },
    {
      "cell_type": "markdown",
      "metadata": {
        "id": "KXh2hwjitUiW"
      },
      "source": [
        "Model 1"
      ]
    },
    {
      "cell_type": "code",
      "metadata": {
        "id": "T5-uIvkZtWoQ"
      },
      "source": [
        "from tensorflow.keras.models import Sequential, load_model\n",
        "from tensorflow.keras.layers import InputLayer, Dense, Conv2D, MaxPool2D, Flatten, BatchNormalization, Dropout"
      ],
      "execution_count": 33,
      "outputs": []
    },
    {
      "cell_type": "code",
      "metadata": {
        "colab": {
          "base_uri": "https://localhost:8080/"
        },
        "id": "cJDXEIXztX3b",
        "outputId": "dd0df970-1798-43d3-9708-52dacb2b01a2"
      },
      "source": [
        "# Feature Extraction Layer\n",
        "model = Sequential()\n",
        "\n",
        "model.add(InputLayer(input_shape=[250,250,3]))\n",
        "model.add(Conv2D(filters=16, kernel_size=3, strides=1, padding='same', activation='relu'))\n",
        "model.add(BatchNormalization())\n",
        "model.add(MaxPool2D(pool_size=2, padding='same'))\n",
        "model.add(Conv2D(filters=32, kernel_size=3, strides=1, padding='same', activation='relu'))\n",
        "model.add(BatchNormalization())\n",
        "model.add(MaxPool2D(pool_size=2, padding='same'))\n",
        "model.add(Conv2D(filters=64, kernel_size=3, strides=1, padding='same', activation='relu'))\n",
        "model.add(BatchNormalization())\n",
        "model.add(MaxPool2D(pool_size=2, padding='same'))\n",
        "model.add(Flatten())\n",
        "\n",
        "# Fully Connected Layer\n",
        "model.add(Dense(128, activation='relu'))\n",
        "model.add(Dense(4, activation='sigmoid'))\n",
        "\n",
        "# Print model summary\n",
        "print(model.summary())"
      ],
      "execution_count": 41,
      "outputs": [
        {
          "output_type": "stream",
          "name": "stdout",
          "text": [
            "Model: \"sequential_2\"\n",
            "_________________________________________________________________\n",
            "Layer (type)                 Output Shape              Param #   \n",
            "=================================================================\n",
            "conv2d_6 (Conv2D)            (None, 250, 250, 16)      448       \n",
            "_________________________________________________________________\n",
            "batch_normalization_6 (Batch (None, 250, 250, 16)      64        \n",
            "_________________________________________________________________\n",
            "max_pooling2d_6 (MaxPooling2 (None, 125, 125, 16)      0         \n",
            "_________________________________________________________________\n",
            "conv2d_7 (Conv2D)            (None, 125, 125, 32)      4640      \n",
            "_________________________________________________________________\n",
            "batch_normalization_7 (Batch (None, 125, 125, 32)      128       \n",
            "_________________________________________________________________\n",
            "max_pooling2d_7 (MaxPooling2 (None, 63, 63, 32)        0         \n",
            "_________________________________________________________________\n",
            "conv2d_8 (Conv2D)            (None, 63, 63, 64)        18496     \n",
            "_________________________________________________________________\n",
            "batch_normalization_8 (Batch (None, 63, 63, 64)        256       \n",
            "_________________________________________________________________\n",
            "max_pooling2d_8 (MaxPooling2 (None, 32, 32, 64)        0         \n",
            "_________________________________________________________________\n",
            "flatten_2 (Flatten)          (None, 65536)             0         \n",
            "_________________________________________________________________\n",
            "dense_4 (Dense)              (None, 128)               8388736   \n",
            "_________________________________________________________________\n",
            "dense_5 (Dense)              (None, 4)                 516       \n",
            "=================================================================\n",
            "Total params: 8,413,284\n",
            "Trainable params: 8,413,060\n",
            "Non-trainable params: 224\n",
            "_________________________________________________________________\n",
            "None\n"
          ]
        }
      ]
    },
    {
      "cell_type": "code",
      "metadata": {
        "colab": {
          "base_uri": "https://localhost:8080/"
        },
        "id": "IUdlttE7t4iu",
        "outputId": "13a1e08d-3235-481a-872d-c5bae883dd35"
      },
      "source": [
        "# Compile model\n",
        "from tensorflow.keras.optimizers import Adam\n",
        "\n",
        "model.compile(optimizer=Adam(lr=0.001), \n",
        "              loss='binary_crossentropy', \n",
        "              metrics=['acc'])"
      ],
      "execution_count": 43,
      "outputs": [
        {
          "output_type": "stream",
          "name": "stderr",
          "text": [
            "/usr/local/lib/python3.7/dist-packages/keras/optimizer_v2/optimizer_v2.py:356: UserWarning: The `lr` argument is deprecated, use `learning_rate` instead.\n",
            "  \"The `lr` argument is deprecated, use `learning_rate` instead.\")\n"
          ]
        }
      ]
    },
    {
      "cell_type": "code",
      "metadata": {
        "colab": {
          "base_uri": "https://localhost:8080/"
        },
        "id": "Zh65uTyQuB1z",
        "outputId": "b82dad61-8e81-42ef-82b2-4e32c53ca64c"
      },
      "source": [
        "history = model.fit(\n",
        "    train_generator.flow(x_train, y_train, batch_size=BATCH_SIZE),\n",
        "    steps_per_epoch=x_train.shape[0] / BATCH_SIZE,\n",
        "    epochs= 100,\n",
        "    validation_data=(x_val, y_val),\n",
        "    # callbacks=[early_stop]\n",
        ")"
      ],
      "execution_count": 45,
      "outputs": [
        {
          "output_type": "stream",
          "name": "stdout",
          "text": [
            "Epoch 1/100\n",
            "76/76 [==============================] - 116s 2s/step - loss: 0.3847 - acc: 0.7543 - val_loss: 0.3801 - val_acc: 0.6262\n",
            "Epoch 2/100\n",
            "76/76 [==============================] - 114s 2s/step - loss: 0.4209 - acc: 0.6869 - val_loss: 0.5061 - val_acc: 0.6066\n",
            "Epoch 3/100\n",
            "76/76 [==============================] - 115s 2s/step - loss: 0.2574 - acc: 0.7790 - val_loss: 0.2905 - val_acc: 0.7311\n",
            "Epoch 4/100\n",
            "76/76 [==============================] - 114s 2s/step - loss: 0.2455 - acc: 0.7938 - val_loss: 0.1932 - val_acc: 0.8295\n",
            "Epoch 5/100\n",
            "76/76 [==============================] - 114s 1s/step - loss: 0.2259 - acc: 0.7954 - val_loss: 0.1968 - val_acc: 0.8131\n",
            "Epoch 6/100\n",
            "76/76 [==============================] - 113s 1s/step - loss: 0.2865 - acc: 0.7749 - val_loss: 0.1859 - val_acc: 0.8262\n",
            "Epoch 7/100\n",
            "76/76 [==============================] - 112s 1s/step - loss: 0.2489 - acc: 0.7987 - val_loss: 0.3719 - val_acc: 0.6426\n",
            "Epoch 8/100\n",
            "76/76 [==============================] - 114s 1s/step - loss: 0.2245 - acc: 0.7921 - val_loss: 0.1422 - val_acc: 0.8492\n",
            "Epoch 9/100\n",
            "76/76 [==============================] - 114s 1s/step - loss: 0.2821 - acc: 0.7847 - val_loss: 0.1531 - val_acc: 0.8492\n",
            "Epoch 10/100\n",
            "76/76 [==============================] - 113s 1s/step - loss: 0.2374 - acc: 0.7987 - val_loss: 0.1397 - val_acc: 0.8492\n",
            "Epoch 11/100\n",
            "76/76 [==============================] - 114s 2s/step - loss: 0.2109 - acc: 0.8159 - val_loss: 0.1434 - val_acc: 0.8459\n",
            "Epoch 12/100\n",
            "76/76 [==============================] - 114s 1s/step - loss: 0.2428 - acc: 0.8020 - val_loss: 0.1583 - val_acc: 0.8525\n",
            "Epoch 13/100\n",
            "76/76 [==============================] - 113s 1s/step - loss: 0.2420 - acc: 0.7896 - val_loss: 0.1785 - val_acc: 0.8426\n",
            "Epoch 14/100\n",
            "76/76 [==============================] - 114s 1s/step - loss: 0.2159 - acc: 0.8085 - val_loss: 0.1683 - val_acc: 0.8393\n",
            "Epoch 15/100\n",
            "76/76 [==============================] - 113s 1s/step - loss: 0.2284 - acc: 0.8020 - val_loss: 0.1677 - val_acc: 0.8393\n",
            "Epoch 16/100\n",
            "76/76 [==============================] - 113s 1s/step - loss: 0.2051 - acc: 0.8085 - val_loss: 0.1407 - val_acc: 0.8525\n",
            "Epoch 17/100\n",
            "76/76 [==============================] - 113s 1s/step - loss: 0.1862 - acc: 0.8242 - val_loss: 0.2082 - val_acc: 0.8295\n",
            "Epoch 18/100\n",
            "76/76 [==============================] - 113s 1s/step - loss: 0.2116 - acc: 0.8135 - val_loss: 0.1425 - val_acc: 0.8525\n",
            "Epoch 19/100\n",
            "76/76 [==============================] - 113s 1s/step - loss: 0.2163 - acc: 0.8053 - val_loss: 0.1944 - val_acc: 0.8230\n",
            "Epoch 20/100\n",
            "76/76 [==============================] - 112s 1s/step - loss: 0.1779 - acc: 0.8381 - val_loss: 0.1464 - val_acc: 0.8492\n",
            "Epoch 21/100\n",
            "76/76 [==============================] - 112s 1s/step - loss: 0.1798 - acc: 0.8266 - val_loss: 0.1612 - val_acc: 0.8393\n",
            "Epoch 22/100\n",
            "76/76 [==============================] - 114s 1s/step - loss: 0.1743 - acc: 0.8381 - val_loss: 0.1448 - val_acc: 0.8525\n",
            "Epoch 23/100\n",
            "76/76 [==============================] - 114s 1s/step - loss: 0.1835 - acc: 0.8299 - val_loss: 0.1372 - val_acc: 0.8525\n",
            "Epoch 24/100\n",
            "76/76 [==============================] - 113s 1s/step - loss: 0.1958 - acc: 0.8233 - val_loss: 0.2975 - val_acc: 0.6984\n",
            "Epoch 25/100\n",
            "76/76 [==============================] - 112s 1s/step - loss: 0.2026 - acc: 0.8209 - val_loss: 0.3749 - val_acc: 0.6262\n",
            "Epoch 26/100\n",
            "76/76 [==============================] - 112s 1s/step - loss: 0.2614 - acc: 0.8299 - val_loss: 0.1849 - val_acc: 0.8295\n",
            "Epoch 27/100\n",
            "76/76 [==============================] - 113s 1s/step - loss: 0.1969 - acc: 0.8168 - val_loss: 0.1520 - val_acc: 0.8492\n",
            "Epoch 28/100\n",
            "76/76 [==============================] - 112s 1s/step - loss: 0.1916 - acc: 0.8340 - val_loss: 0.1371 - val_acc: 0.8492\n",
            "Epoch 29/100\n",
            "76/76 [==============================] - 112s 1s/step - loss: 0.1931 - acc: 0.8151 - val_loss: 0.1407 - val_acc: 0.8525\n",
            "Epoch 30/100\n",
            "76/76 [==============================] - 113s 1s/step - loss: 0.1893 - acc: 0.8233 - val_loss: 0.1547 - val_acc: 0.8426\n",
            "Epoch 31/100\n",
            "76/76 [==============================] - 113s 1s/step - loss: 0.1859 - acc: 0.8299 - val_loss: 0.1366 - val_acc: 0.8525\n",
            "Epoch 32/100\n",
            "76/76 [==============================] - 112s 1s/step - loss: 0.1913 - acc: 0.8209 - val_loss: 0.1911 - val_acc: 0.8033\n",
            "Epoch 33/100\n",
            "76/76 [==============================] - 113s 1s/step - loss: 0.1811 - acc: 0.8299 - val_loss: 0.1540 - val_acc: 0.8492\n",
            "Epoch 34/100\n",
            "76/76 [==============================] - 113s 1s/step - loss: 0.1655 - acc: 0.8422 - val_loss: 0.1365 - val_acc: 0.8525\n",
            "Epoch 35/100\n",
            "76/76 [==============================] - 112s 1s/step - loss: 0.1627 - acc: 0.8463 - val_loss: 0.1299 - val_acc: 0.8557\n",
            "Epoch 36/100\n",
            "76/76 [==============================] - 112s 1s/step - loss: 0.1736 - acc: 0.8283 - val_loss: 0.1553 - val_acc: 0.8459\n",
            "Epoch 37/100\n",
            "76/76 [==============================] - 112s 1s/step - loss: 0.1794 - acc: 0.8324 - val_loss: 0.1411 - val_acc: 0.8525\n",
            "Epoch 38/100\n",
            "76/76 [==============================] - 112s 1s/step - loss: 0.1886 - acc: 0.8258 - val_loss: 0.2771 - val_acc: 0.7115\n",
            "Epoch 39/100\n",
            "76/76 [==============================] - 113s 1s/step - loss: 0.1717 - acc: 0.8381 - val_loss: 0.1404 - val_acc: 0.8492\n",
            "Epoch 40/100\n",
            "76/76 [==============================] - 113s 1s/step - loss: 0.1747 - acc: 0.8381 - val_loss: 0.1601 - val_acc: 0.8459\n",
            "Epoch 41/100\n",
            "76/76 [==============================] - 113s 1s/step - loss: 0.1640 - acc: 0.8406 - val_loss: 0.1307 - val_acc: 0.8525\n",
            "Epoch 42/100\n",
            "76/76 [==============================] - 113s 1s/step - loss: 0.1762 - acc: 0.8332 - val_loss: 0.1443 - val_acc: 0.8492\n",
            "Epoch 43/100\n",
            "76/76 [==============================] - 113s 1s/step - loss: 0.1590 - acc: 0.8455 - val_loss: 0.1451 - val_acc: 0.8492\n",
            "Epoch 44/100\n",
            "76/76 [==============================] - 113s 1s/step - loss: 0.1753 - acc: 0.8291 - val_loss: 0.1366 - val_acc: 0.8656\n",
            "Epoch 45/100\n",
            "76/76 [==============================] - 113s 1s/step - loss: 0.1892 - acc: 0.8233 - val_loss: 0.3704 - val_acc: 0.6033\n",
            "Epoch 46/100\n",
            "76/76 [==============================] - 113s 1s/step - loss: 0.1725 - acc: 0.8406 - val_loss: 1.1180 - val_acc: 0.5541\n",
            "Epoch 47/100\n",
            "76/76 [==============================] - 112s 1s/step - loss: 0.1877 - acc: 0.8316 - val_loss: 0.1440 - val_acc: 0.8525\n",
            "Epoch 48/100\n",
            "76/76 [==============================] - 112s 1s/step - loss: 0.1672 - acc: 0.8455 - val_loss: 0.1293 - val_acc: 0.8557\n",
            "Epoch 49/100\n",
            "76/76 [==============================] - 112s 1s/step - loss: 0.1688 - acc: 0.8439 - val_loss: 0.1677 - val_acc: 0.8230\n",
            "Epoch 50/100\n",
            "76/76 [==============================] - 112s 1s/step - loss: 0.1613 - acc: 0.8505 - val_loss: 0.1340 - val_acc: 0.8590\n",
            "Epoch 51/100\n",
            "76/76 [==============================] - 112s 1s/step - loss: 0.1667 - acc: 0.8488 - val_loss: 0.1254 - val_acc: 0.8623\n",
            "Epoch 52/100\n",
            "76/76 [==============================] - 112s 1s/step - loss: 0.1598 - acc: 0.8578 - val_loss: 0.2294 - val_acc: 0.8656\n",
            "Epoch 53/100\n",
            "76/76 [==============================] - 112s 1s/step - loss: 0.1652 - acc: 0.8578 - val_loss: 0.1262 - val_acc: 0.8525\n",
            "Epoch 54/100\n",
            "76/76 [==============================] - 112s 1s/step - loss: 0.1584 - acc: 0.8480 - val_loss: 0.1315 - val_acc: 0.8557\n",
            "Epoch 55/100\n",
            "76/76 [==============================] - 112s 1s/step - loss: 0.1739 - acc: 0.8398 - val_loss: 0.1608 - val_acc: 0.8459\n",
            "Epoch 56/100\n",
            "76/76 [==============================] - 112s 1s/step - loss: 0.1903 - acc: 0.8332 - val_loss: 0.1419 - val_acc: 0.8525\n",
            "Epoch 57/100\n",
            "76/76 [==============================] - 112s 1s/step - loss: 0.1551 - acc: 0.8562 - val_loss: 0.1247 - val_acc: 0.8623\n",
            "Epoch 58/100\n",
            "76/76 [==============================] - 112s 1s/step - loss: 0.1630 - acc: 0.8463 - val_loss: 0.1241 - val_acc: 0.8754\n",
            "Epoch 59/100\n",
            "76/76 [==============================] - 112s 1s/step - loss: 0.1669 - acc: 0.8496 - val_loss: 0.1427 - val_acc: 0.8885\n",
            "Epoch 60/100\n",
            "76/76 [==============================] - 112s 1s/step - loss: 0.1838 - acc: 0.8554 - val_loss: 0.5522 - val_acc: 0.6951\n",
            "Epoch 61/100\n",
            "76/76 [==============================] - 112s 1s/step - loss: 0.1723 - acc: 0.8422 - val_loss: 0.1758 - val_acc: 0.8459\n",
            "Epoch 62/100\n",
            "76/76 [==============================] - 112s 1s/step - loss: 0.1884 - acc: 0.8496 - val_loss: 0.1274 - val_acc: 0.8820\n",
            "Epoch 63/100\n",
            "76/76 [==============================] - 112s 1s/step - loss: 0.1663 - acc: 0.8546 - val_loss: 0.1561 - val_acc: 0.8459\n",
            "Epoch 64/100\n",
            "76/76 [==============================] - 112s 1s/step - loss: 0.1786 - acc: 0.8455 - val_loss: 0.1399 - val_acc: 0.8492\n",
            "Epoch 65/100\n",
            "76/76 [==============================] - 112s 1s/step - loss: 0.1547 - acc: 0.8537 - val_loss: 0.1238 - val_acc: 0.8656\n",
            "Epoch 66/100\n",
            "76/76 [==============================] - 112s 1s/step - loss: 0.1631 - acc: 0.8513 - val_loss: 0.1312 - val_acc: 0.8787\n",
            "Epoch 67/100\n",
            "76/76 [==============================] - 112s 1s/step - loss: 0.1731 - acc: 0.8652 - val_loss: 0.2340 - val_acc: 0.8295\n",
            "Epoch 68/100\n",
            "76/76 [==============================] - 112s 1s/step - loss: 0.1658 - acc: 0.8529 - val_loss: 0.1480 - val_acc: 0.8852\n",
            "Epoch 69/100\n",
            "76/76 [==============================] - 112s 1s/step - loss: 0.1546 - acc: 0.8570 - val_loss: 0.1333 - val_acc: 0.9148\n",
            "Epoch 70/100\n",
            "76/76 [==============================] - 112s 1s/step - loss: 0.1699 - acc: 0.8513 - val_loss: 0.1313 - val_acc: 0.8820\n",
            "Epoch 71/100\n",
            "76/76 [==============================] - 112s 1s/step - loss: 0.1558 - acc: 0.8652 - val_loss: 0.2359 - val_acc: 0.8230\n",
            "Epoch 72/100\n",
            "76/76 [==============================] - 112s 1s/step - loss: 0.1498 - acc: 0.8694 - val_loss: 0.1933 - val_acc: 0.8328\n",
            "Epoch 73/100\n",
            "76/76 [==============================] - 112s 1s/step - loss: 0.1520 - acc: 0.8767 - val_loss: 0.1269 - val_acc: 0.8721\n",
            "Epoch 74/100\n",
            "76/76 [==============================] - 112s 1s/step - loss: 0.1416 - acc: 0.8792 - val_loss: 0.1466 - val_acc: 0.8820\n",
            "Epoch 75/100\n",
            "76/76 [==============================] - 112s 1s/step - loss: 0.1510 - acc: 0.8595 - val_loss: 0.1118 - val_acc: 0.8754\n",
            "Epoch 76/100\n",
            "76/76 [==============================] - 112s 1s/step - loss: 0.1350 - acc: 0.8800 - val_loss: 0.1306 - val_acc: 0.9213\n",
            "Epoch 77/100\n",
            "76/76 [==============================] - 112s 1s/step - loss: 0.1571 - acc: 0.8554 - val_loss: 0.2162 - val_acc: 0.8689\n",
            "Epoch 78/100\n",
            "76/76 [==============================] - 112s 1s/step - loss: 0.1674 - acc: 0.8702 - val_loss: 0.2266 - val_acc: 0.8689\n",
            "Epoch 79/100\n",
            "76/76 [==============================] - 112s 1s/step - loss: 0.1866 - acc: 0.8595 - val_loss: 0.1473 - val_acc: 0.8590\n",
            "Epoch 80/100\n",
            "76/76 [==============================] - 112s 1s/step - loss: 0.1617 - acc: 0.8710 - val_loss: 0.1885 - val_acc: 0.8361\n",
            "Epoch 81/100\n",
            "76/76 [==============================] - 112s 1s/step - loss: 0.1505 - acc: 0.8694 - val_loss: 0.1403 - val_acc: 0.8393\n",
            "Epoch 82/100\n",
            "76/76 [==============================] - 112s 1s/step - loss: 0.1533 - acc: 0.8644 - val_loss: 0.1435 - val_acc: 0.8689\n",
            "Epoch 83/100\n",
            "76/76 [==============================] - 112s 1s/step - loss: 0.1463 - acc: 0.8841 - val_loss: 0.2174 - val_acc: 0.8426\n",
            "Epoch 84/100\n",
            "76/76 [==============================] - 112s 1s/step - loss: 0.1488 - acc: 0.8850 - val_loss: 0.1196 - val_acc: 0.8984\n",
            "Epoch 85/100\n",
            "76/76 [==============================] - 112s 1s/step - loss: 0.1816 - acc: 0.8751 - val_loss: 0.1076 - val_acc: 0.9180\n",
            "Epoch 86/100\n",
            "76/76 [==============================] - 112s 1s/step - loss: 0.1465 - acc: 0.8948 - val_loss: 0.1087 - val_acc: 0.9115\n",
            "Epoch 87/100\n",
            "76/76 [==============================] - 112s 1s/step - loss: 0.1417 - acc: 0.8841 - val_loss: 0.1185 - val_acc: 0.9148\n",
            "Epoch 88/100\n",
            "76/76 [==============================] - 113s 1s/step - loss: 0.1416 - acc: 0.8866 - val_loss: 0.1099 - val_acc: 0.8984\n",
            "Epoch 89/100\n",
            "76/76 [==============================] - 112s 1s/step - loss: 0.1426 - acc: 0.8817 - val_loss: 0.1189 - val_acc: 0.8951\n",
            "Epoch 90/100\n",
            "76/76 [==============================] - 113s 1s/step - loss: 0.1370 - acc: 0.8850 - val_loss: 0.1034 - val_acc: 0.8918\n",
            "Epoch 91/100\n",
            "76/76 [==============================] - 112s 1s/step - loss: 0.1236 - acc: 0.8989 - val_loss: 0.1034 - val_acc: 0.9016\n",
            "Epoch 92/100\n",
            "76/76 [==============================] - 112s 1s/step - loss: 0.1422 - acc: 0.8800 - val_loss: 0.1215 - val_acc: 0.9016\n",
            "Epoch 93/100\n",
            "76/76 [==============================] - 112s 1s/step - loss: 0.1444 - acc: 0.9047 - val_loss: 0.1199 - val_acc: 0.9115\n",
            "Epoch 94/100\n",
            "76/76 [==============================] - 112s 1s/step - loss: 0.1339 - acc: 0.9022 - val_loss: 0.1013 - val_acc: 0.9148\n",
            "Epoch 95/100\n",
            "76/76 [==============================] - 112s 1s/step - loss: 0.1626 - acc: 0.8767 - val_loss: 0.2460 - val_acc: 0.8164\n",
            "Epoch 96/100\n",
            "76/76 [==============================] - 112s 1s/step - loss: 0.1559 - acc: 0.8743 - val_loss: 0.1011 - val_acc: 0.9082\n",
            "Epoch 97/100\n",
            "76/76 [==============================] - 113s 1s/step - loss: 0.1537 - acc: 0.8694 - val_loss: 0.1333 - val_acc: 0.9016\n",
            "Epoch 98/100\n",
            "76/76 [==============================] - 112s 1s/step - loss: 0.1454 - acc: 0.8899 - val_loss: 0.2016 - val_acc: 0.7770\n",
            "Epoch 99/100\n",
            "76/76 [==============================] - 112s 1s/step - loss: 0.1388 - acc: 0.8882 - val_loss: 0.1937 - val_acc: 0.8131\n",
            "Epoch 100/100\n",
            "76/76 [==============================] - 113s 1s/step - loss: 0.1399 - acc: 0.8915 - val_loss: 0.1229 - val_acc: 0.8951\n"
          ]
        }
      ]
    },
    {
      "cell_type": "code",
      "metadata": {
        "colab": {
          "base_uri": "https://localhost:8080/",
          "height": 581
        },
        "id": "wD6J2cHTcdPG",
        "outputId": "775cb90a-54f8-4363-cc97-8f6441e9e4a9"
      },
      "source": [
        "%matplotlib inline\n",
        "\n",
        "import matplotlib.pyplot as plt\n",
        "\n",
        "plt.style.use(\"ggplot\")\n",
        "plt.figure()\n",
        "#plt.axis(0,15,0,8)\n",
        "plt.plot(np.arange(0, 100), history.history[\"loss\"], label=\"train_loss\")\n",
        "plt.plot(np.arange(0, 100), history.history[\"val_loss\"], label=\"val_loss\")\n",
        "plt.title(\"Loss Plot\")\n",
        "plt.xlabel(\"Epoch #\")\n",
        "plt.ylabel(\"Loss\")\n",
        "plt.legend()\n",
        "plt.show()\n",
        "\n",
        "plt.style.use(\"ggplot\")\n",
        "plt.figure()\n",
        "plt.plot(np.arange(0, 100), history.history[\"acc\"], label=\"train_accuracy\")\n",
        "plt.plot(np.arange(0, 100), history.history[\"val_acc\"], label=\"val_accuracy\")\n",
        "plt.title(\"Accuracy Plot\")\n",
        "plt.xlabel(\"Epoch #\")\n",
        "plt.ylabel(\"Acc\")\n",
        "plt.legend()\n",
        "plt.show()"
      ],
      "execution_count": 46,
      "outputs": [
        {
          "output_type": "display_data",
          "data": {
            "image/png": "[encoded data removed]",
            "text/plain": [
              "<Figure size 432x288 with 1 Axes>"
            ]
          },
          "metadata": {}
        },
        {
          "output_type": "display_data",
          "data": {
            "image/png": "[encoded data removed]",
            "text/plain": [
              "<Figure size 432x288 with 1 Axes>"
            ]
          },
          "metadata": {}
        }
      ]
    },
    {
      "cell_type": "code",
      "metadata": {
        "colab": {
          "base_uri": "https://localhost:8080/"
        },
        "id": "G6T-CcL7i5Ly",
        "outputId": "80607469-68f0-410d-ae86-8108f45a9af5"
      },
      "source": [
        "from sklearn.metrics import accuracy_score\n",
        "pred = model.predict(x_val)\n",
        "labels = (pred > 0.5).astype(np.int)\n",
        "\n",
        "print(accuracy_score(y_val, labels))"
      ],
      "execution_count": 51,
      "outputs": [
        {
          "output_type": "stream",
          "name": "stdout",
          "text": [
            "0.8885245901639345\n"
          ]
        }
      ]
    },
    {
      "cell_type": "code",
      "metadata": {
        "colab": {
          "base_uri": "https://localhost:8080/"
        },
        "id": "zQ2mQjj-hyAF",
        "outputId": "7bb6e9c2-6612-41b7-a8dd-1219812e9082"
      },
      "source": [
        "from sklearn.metrics import classification_report\n",
        "\n",
        "pred = model.predict(x_val)\n",
        "labels = (pred > 0.5).astype(np.int)\n",
        "\n",
        "print(classification_report(y_val, labels))"
      ],
      "execution_count": 50,
      "outputs": [
        {
          "output_type": "stream",
          "name": "stdout",
          "text": [
            "              precision    recall  f1-score   support\n",
            "\n",
            "           0       1.00      0.25      0.40        44\n",
            "           1       1.00      0.99      0.99        93\n",
            "           2       0.71      1.00      0.83        76\n",
            "           3       1.00      1.00      1.00        92\n",
            "\n",
            "   micro avg       0.90      0.89      0.89       305\n",
            "   macro avg       0.93      0.81      0.81       305\n",
            "weighted avg       0.93      0.89      0.87       305\n",
            " samples avg       0.89      0.89      0.89       305\n",
            "\n"
          ]
        },
        {
          "output_type": "stream",
          "name": "stderr",
          "text": [
            "/usr/local/lib/python3.7/dist-packages/sklearn/metrics/_classification.py:1272: UndefinedMetricWarning: Precision and F-score are ill-defined and being set to 0.0 in samples with no predicted labels. Use `zero_division` parameter to control this behavior.\n",
            "  _warn_prf(average, modifier, msg_start, len(result))\n"
          ]
        }
      ]
    },
    {
      "cell_type": "code",
      "metadata": {
        "id": "Th4733FMgG3J"
      },
      "source": [
        "os.mkdir(\"/content/model\")\n",
        "model.save(\"/content/model/model.h5\")"
      ],
      "execution_count": 52,
      "outputs": []
    },
    {
      "cell_type": "code",
      "metadata": {
        "colab": {
          "base_uri": "https://localhost:8080/"
        },
        "id": "3z9UlJXYjLgS",
        "outputId": "a71d19e7-3e2c-417c-9fa9-02c42789c860"
      },
      "source": [
        "import tensorflow as tf\n",
        "\n",
        "loaded_model = tf.keras.models.load_model(\"/content/model/model.h5\")\n",
        "loaded_model.build()\n",
        "loaded_model.summary()"
      ],
      "execution_count": 53,
      "outputs": [
        {
          "output_type": "stream",
          "name": "stdout",
          "text": [
            "Model: \"sequential_2\"\n",
            "_________________________________________________________________\n",
            "Layer (type)                 Output Shape              Param #   \n",
            "=================================================================\n",
            "conv2d_6 (Conv2D)            (None, 250, 250, 16)      448       \n",
            "_________________________________________________________________\n",
            "batch_normalization_6 (Batch (None, 250, 250, 16)      64        \n",
            "_________________________________________________________________\n",
            "max_pooling2d_6 (MaxPooling2 (None, 125, 125, 16)      0         \n",
            "_________________________________________________________________\n",
            "conv2d_7 (Conv2D)            (None, 125, 125, 32)      4640      \n",
            "_________________________________________________________________\n",
            "batch_normalization_7 (Batch (None, 125, 125, 32)      128       \n",
            "_________________________________________________________________\n",
            "max_pooling2d_7 (MaxPooling2 (None, 63, 63, 32)        0         \n",
            "_________________________________________________________________\n",
            "conv2d_8 (Conv2D)            (None, 63, 63, 64)        18496     \n",
            "_________________________________________________________________\n",
            "batch_normalization_8 (Batch (None, 63, 63, 64)        256       \n",
            "_________________________________________________________________\n",
            "max_pooling2d_8 (MaxPooling2 (None, 32, 32, 64)        0         \n",
            "_________________________________________________________________\n",
            "flatten_2 (Flatten)          (None, 65536)             0         \n",
            "_________________________________________________________________\n",
            "dense_4 (Dense)              (None, 128)               8388736   \n",
            "_________________________________________________________________\n",
            "dense_5 (Dense)              (None, 4)                 516       \n",
            "=================================================================\n",
            "Total params: 8,413,284\n",
            "Trainable params: 8,413,060\n",
            "Non-trainable params: 224\n",
            "_________________________________________________________________\n"
          ]
        }
      ]
    },
    {
      "cell_type": "code",
      "metadata": {
        "id": "zvmYNSAH_XDI"
      },
      "source": [
        "# TULIS KODE ANDA DISINI\n",
        "from keras import backend as K\n",
        "import gc\n",
        "from keras import layers\n",
        "from keras.models import Sequential\n",
        "from tensorflow.keras.optimizers import Adam\n",
        "from tensorflow.keras.applications import ResNet50,MobileNet, DenseNet201, InceptionV3, NASNetLarge, InceptionResNetV2, NASNetMobile\n",
        "from keras.layers import Dense,Dropout,Activation,Add,MaxPooling2D,Conv2D,Flatten,BatchNormalization,GlobalMaxPooling2D,GlobalAveragePooling2D,AveragePooling2D\n",
        "#build cnn\n",
        "def build_model(backbone, lr=1e-4):\n",
        "    model1 = Sequential()\n",
        "    model1.add(backbone)\n",
        "    model1.add(Conv2D(16, (3, 3), padding=\"valid\", activation=\"relu\"))\n",
        "    model1.add(MaxPooling2D(pool_size=(2, 2),strides=(1, 1), padding=\"same\"))\n",
        "    model1.add(Conv2D(32, (3, 3), padding=\"valid\", activation=\"relu\"))\n",
        "    model1.add(MaxPooling2D(pool_size=(2, 2),strides=(1, 1), padding=\"same\"))\n",
        "    model1.add(Conv2D(64, (3, 3), padding=\"valid\", activation=\"relu\"))\n",
        "    model1.add(MaxPooling2D(pool_size=(2, 2),strides=(1, 1), padding=\"same\"))\n",
        "    model1.add(GlobalMaxPooling2D())\n",
        "    # model1.add(Flatten())\n",
        "    model1.add(layers.Dropout(0.5))\n",
        "    model1.add(layers.BatchNormalization())\n",
        "    model1.add(layers.Dense(3, activation='softmax'))\n",
        "    \n",
        "    model1.compile(\n",
        "        loss='categorical_crossentropy',\n",
        "        optimizer=Adam(lr=lr),\n",
        "        metrics=['acc']\n",
        "    )\n",
        "    \n",
        "    return model1\n",
        "\n",
        "K.clear_session()\n",
        "gc.collect()\n",
        "\n",
        "resnet = DenseNet201(\n",
        "    weights='imagenet',\n",
        "    include_top=False,\n",
        "    input_shape=(250,250,3)\n",
        ")\n",
        "\n",
        "model1 = build_model1(resnet ,lr = 1e-4)\n",
        "model1.summary()"
      ],
      "execution_count": null,
      "outputs": []
    },
    {
      "cell_type": "code",
      "metadata": {
        "id": "qj982dEQ_nwP"
      },
      "source": [
        "history1 = model1.fit(\n",
        "    train_generator.flow(x_train, y_train, batch_size=BATCH_SIZE),\n",
        "    steps_per_epoch=x_train.shape[0] / BATCH_SIZE,\n",
        "    epochs= 100,\n",
        "    validation_data=(x_val, y_val),\n",
        "    # callbacks=[early_stop]\n",
        ")"
      ],
      "execution_count": null,
      "outputs": []
    }
  ]
}